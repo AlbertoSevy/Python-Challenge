{
 "cells": [
  {
   "cell_type": "code",
   "execution_count": 3,
   "id": "9005c0e1-2f74-4465-8cd9-b95826599efb",
   "metadata": {},
   "outputs": [],
   "source": [
    "import csv"
   ]
  },
  {
   "cell_type": "code",
   "execution_count": 4,
   "id": "e5e8ae4b-5836-4a47-abfc-769ae5e2f9c5",
   "metadata": {},
   "outputs": [],
   "source": [
    "# Variables\n",
    "total_votes = 0\n",
    "candidates = {}\n",
    "winner = \"\"\n",
    "max_votes = 0"
   ]
  },
  {
   "cell_type": "code",
   "execution_count": 11,
   "id": "93e8aec4-365d-415d-a8e6-0fa5097807b3",
   "metadata": {},
   "outputs": [
    {
     "name": "stdout",
     "output_type": "stream",
     "text": [
      "Election Results\n",
      "-------------------------\n",
      "Total Votes: 2218266\n",
      "-------------------------\n",
      "Charles Casper Stockham: 23.049% (511278)\n",
      "Diana DeGette: 73.812% (1637352)\n",
      "Raymon Anthony Doane: 3.139% (69636)\n",
      "-------------------------\n",
      "Winner: Diana DeGette\n",
      "-------------------------\n",
      "\n",
      "The results have been written to 'Analysis/Election_Results.txt'\n"
     ]
    }
   ],
   "source": [
    "# Here we read the csv\n",
    "with open('election_data.csv', mode='r') as file:\n",
    "    reader = csv.reader(file)\n",
    "    next(reader)  # Saltar la cabecera\n",
    "    for row in reader:\n",
    "        total_votes += 1\n",
    "        candidate = row[2]\n",
    "        if candidate in candidates:\n",
    "            candidates[candidate] += 1\n",
    "        else:\n",
    "            candidates[candidate] = 1\n",
    "\n",
    "# Winner\n",
    "winner = \"\"\n",
    "max_votes = 0\n",
    "\n",
    "# Results\n",
    "results = []\n",
    "results.append(\"Election Results\")\n",
    "results.append(\"-------------------------\")\n",
    "results.append(f\"Total Votes: {total_votes}\")\n",
    "results.append(\"-------------------------\")\n",
    "\n",
    "for candidate, votes in candidates.items():\n",
    "    percentage = (votes / total_votes) * 100\n",
    "    results.append(f\"{candidate}: {percentage:.3f}% ({votes})\")\n",
    "    if votes > max_votes:\n",
    "        max_votes = votes\n",
    "        winner = candidate\n",
    "\n",
    "results.append(\"-------------------------\")\n",
    "results.append(f\"Winner: {winner}\")\n",
    "results.append(\"-------------------------\")\n",
    "\n",
    "# Print to Terminal\n",
    "print(\"\\n\".join(results))\n",
    "\n",
    "# Create Analysis folder\n",
    "ndir = 'Analysis'\n",
    "if not os.path.exists(ndir):\n",
    "    os.makedirs(ndir)\n",
    "\n",
    "# Convert to .txt\n",
    "nfile = os.path.join(ndir, 'Election_Results.txt')\n",
    "\n",
    "# Save as\n",
    "with open(nfile, mode='w') as file:\n",
    "    for line in results:\n",
    "        file.write(line + '\\n')\n",
    "\n",
    "print(f\"\\nThe results have been written to '{nfile}'\")\n"
   ]
  },
  {
   "cell_type": "code",
   "execution_count": null,
   "id": "41aeeae3-5ca6-4568-99de-6911d6bc8ba2",
   "metadata": {},
   "outputs": [],
   "source": []
  }
 ],
 "metadata": {
  "kernelspec": {
   "display_name": "Python 3 (ipykernel)",
   "language": "python",
   "name": "python3"
  },
  "language_info": {
   "codemirror_mode": {
    "name": "ipython",
    "version": 3
   },
   "file_extension": ".py",
   "mimetype": "text/x-python",
   "name": "python",
   "nbconvert_exporter": "python",
   "pygments_lexer": "ipython3",
   "version": "3.11.7"
  }
 },
 "nbformat": 4,
 "nbformat_minor": 5
}
