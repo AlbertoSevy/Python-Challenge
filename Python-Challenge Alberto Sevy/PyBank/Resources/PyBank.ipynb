{
 "cells": [
  {
   "cell_type": "code",
   "execution_count": 2,
   "id": "d77b8663-a6d3-4c5f-b9e2-9c7d3dee4551",
   "metadata": {},
   "outputs": [],
   "source": [
    "import os\n",
    "import csv"
   ]
  },
  {
   "cell_type": "code",
   "execution_count": 4,
   "id": "aecb001f-9b1b-428f-a8c7-d1111ca43c18",
   "metadata": {},
   "outputs": [
    {
     "name": "stdout",
     "output_type": "stream",
     "text": [
      "Financial Analysis\n",
      "---------------------\n",
      "Total Months: 86\n",
      "Total: $22564198\n",
      "Average Change: $-8311.11\n",
      "Greatest Increase in Profits: Aug-16 ($1862002)\n",
      "Greatest Decrease in Profits: Feb-14 ($-1825558)\n",
      "\n",
      "The results have been written to 'Analysis/Financial_Analysis.txt'\n"
     ]
    }
   ],
   "source": [
    "# Variables\n",
    "dates = []\n",
    "profits_losses = []\n",
    "changes = []\n",
    "total_months = 0\n",
    "net_total = 0\n",
    "previous_profit_loss = None\n",
    "\n",
    "# Read CSV\n",
    "with open('budget_data.csv', mode='r') as file:\n",
    "    reader = csv.reader(file)\n",
    "    next(reader)  # Saltar la cabecera\n",
    "    for row in reader:\n",
    "        dates.append(row[0])\n",
    "        profits_losses.append(int(row[1]))\n",
    "\n",
    "# Calculate Months and Profits\n",
    "for i in range(len(profits_losses)):\n",
    "    total_months += 1\n",
    "    current_profit_loss = profits_losses[i]\n",
    "    net_total += current_profit_loss\n",
    "\n",
    "    if previous_profit_loss is not None:\n",
    "        change = current_profit_loss - previous_profit_loss\n",
    "        changes.append(change)\n",
    "    \n",
    "    previous_profit_loss = current_profit_loss\n",
    "\n",
    "# Greatest Increase\n",
    "greatest_increase = changes[0]\n",
    "greatest_increase_date = dates[1]\n",
    "\n",
    "# Greates Decrease\n",
    "greatest_decrease = changes[0]\n",
    "greatest_decrease_date = dates[1]\n",
    "\n",
    "for i in range(1, len(changes)):\n",
    "    if changes[i] > greatest_increase:\n",
    "        greatest_increase = changes[i]\n",
    "        greatest_increase_date = dates[i + 1]\n",
    "    \n",
    "    if changes[i] < greatest_decrease:\n",
    "        greatest_decrease = changes[i]\n",
    "        greatest_decrease_date = dates[i + 1]\n",
    "\n",
    "# Average Change \n",
    "average_change = sum(changes) / len(changes)\n",
    "\n",
    "# Create Analysis Folder\n",
    "ndir = 'Analysis'\n",
    "if not os.path.exists(ndir):\n",
    "    os.makedirs(ndir)\n",
    "\n",
    "# Name of the .txt file \n",
    "nfile = os.path.join(ndir, 'Financial_Analysis.txt')\n",
    "\n",
    "# Printing\n",
    "results = [\n",
    "    'Financial Analysis',\n",
    "    '---------------------',\n",
    "    f'Total Months: {total_months}',\n",
    "    f'Total: ${net_total}',\n",
    "    f'Average Change: ${average_change:.2f}',\n",
    "    f'Greatest Increase in Profits: {greatest_increase_date} (${greatest_increase})',\n",
    "    f'Greatest Decrease in Profits: {greatest_decrease_date} (${greatest_decrease})'\n",
    "]\n",
    "\n",
    "# Print to terminal and txt folder\n",
    "print(\"\\n\".join(results))\n",
    "\n",
    "with open(nfile, mode='w') as file:\n",
    "    for line in results:\n",
    "        file.write(line + '\\n')\n",
    "\n",
    "print(f\"\\nThe results have been written to '{nfile}'\")\n"
   ]
  },
  {
   "cell_type": "code",
   "execution_count": 9,
   "id": "5d7a6de8-db1c-476f-bb2a-33f14171eedb",
   "metadata": {},
   "outputs": [
    {
     "name": "stdout",
     "output_type": "stream",
     "text": [
      "The results have been written to 'Analysis/Financial_Analysis.txt'\n"
     ]
    }
   ],
   "source": []
  },
  {
   "cell_type": "code",
   "execution_count": null,
   "id": "7bb34e95-bb25-4087-b0fd-263cc6c89195",
   "metadata": {},
   "outputs": [],
   "source": []
  }
 ],
 "metadata": {
  "kernelspec": {
   "display_name": "Python 3 (ipykernel)",
   "language": "python",
   "name": "python3"
  },
  "language_info": {
   "codemirror_mode": {
    "name": "ipython",
    "version": 3
   },
   "file_extension": ".py",
   "mimetype": "text/x-python",
   "name": "python",
   "nbconvert_exporter": "python",
   "pygments_lexer": "ipython3",
   "version": "3.11.7"
  }
 },
 "nbformat": 4,
 "nbformat_minor": 5
}
